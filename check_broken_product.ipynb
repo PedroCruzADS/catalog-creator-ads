{
 "cells": [
  {
   "cell_type": "code",
   "execution_count": 28,
   "metadata": {},
   "outputs": [
    {
     "name": "stdout",
     "output_type": "stream",
     "text": [
      "7 Produtos não quebrados\n",
      "14 Produtos quebrados\n",
      "21 Produtos\n"
     ]
    }
   ],
   "source": [
    "from functions import get_sku_list\n",
    "from facebook_business.adobjects.productcatalog import ProductCatalog\n",
    "from facebook_business.adobjects.productgroup import ProductGroup\n",
    "from facebook_business.adobjects.productitem import ProductItem\n",
    "from facebook_business.api import FacebookAdsApi\n",
    "\n",
    "\n",
    "def check_product_availability(page: str, number_of_pages: int, product_catalog_id: int, access_token: str) -> dict:\n",
    "    sku_list = get_sku_list(page, num_pages=number_of_pages)\n",
    "    FacebookAdsApi.init(access_token=access_token)\n",
    "    oscar_catalog = ProductCatalog(product_catalog_id)\n",
    "    products = oscar_catalog.get_products(fields=[ProductItem.Field.product_group, ProductItem.Field.name, ProductItem.Field.availability], params={\n",
    "                                          'filter': {'retailer_id': {'is_any': sku_list}}})\n",
    "    new_products = [[dict(p) for p in ProductGroup(product['product_group']['id']).get_products(\n",
    "        fields=[ProductItem.Field.name, ProductItem.Field.availability])] for product in products]\n",
    "\n",
    "    list_brokens = [k['is_broken'] for k in products]\n",
    "\n",
    "    i = 0\n",
    "    for k in list_brokens:\n",
    "        if k == 'NO':\n",
    "            i = i + 1\n",
    "\n",
    "    print(\"Produtos não quebrados:\", i)\n",
    "    print(\"Produtos quebrados:\", (len(products) - i))\n",
    "    print(('Porcentagem de produtos quebrados em relação ao total:', len(products)-i)/len(products)*100, )\n",
    "    print(\"Produtos\", len(products))\n",
    "\n",
    "    return [{'product_name': group[0]['name'],\n",
    "            'product_quantity': len(group),\n",
    "             'products_available': len([p for p in group if p['availability'] != 'out of stock']),\n",
    "             'is_broken': 'YES' if len([p for p in group if p['availability'] == 'out of stock']) >= len(group) / 2 else 'NO'\n",
    "             } for group in new_products\n",
    "            ]\n",
    "\n",
    "\n",
    "products = check_product_availability(page='', number_pages=1)\n"
   ]
  }
 ],
 "metadata": {
  "kernelspec": {
   "display_name": "Python 3",
   "language": "python",
   "name": "python3"
  },
  "language_info": {
   "codemirror_mode": {
    "name": "ipython",
    "version": 3
   },
   "file_extension": ".py",
   "mimetype": "text/x-python",
   "name": "python",
   "nbconvert_exporter": "python",
   "pygments_lexer": "ipython3",
   "version": "3.11.1"
  },
  "orig_nbformat": 4
 },
 "nbformat": 4,
 "nbformat_minor": 2
}
